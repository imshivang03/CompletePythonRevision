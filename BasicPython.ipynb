{
 "cells": [
  {
   "cell_type": "markdown",
   "metadata": {},
   "source": [
    "#### Basic Python Practice"
   ]
  },
  {
   "cell_type": "code",
   "execution_count": 2,
   "metadata": {},
   "outputs": [
    {
     "name": "stdout",
     "output_type": "stream",
     "text": [
      "10\n"
     ]
    }
   ],
   "source": [
    "## Simple Calculator\n",
    "\n",
    "first_num = int(input(\"Enter 1st number\"))\n",
    "second_num = int(input(\"Enter 2nd number\"))\n",
    "operation = input(\"What you want to perform: (*,/,+,-): \")\n",
    "\n",
    "if (operation == \"*\"):\n",
    "    result = first_num * second_num\n",
    "elif (operation == \"/\"):\n",
    "    if second_num!=0:\n",
    "        result = first_num / second_num\n",
    "    else:\n",
    "        result = \"divide by zero error!\"\n",
    "elif operation==\"+\":\n",
    "    result = first_num + second_num\n",
    "else:\n",
    "    result = first_num - second_num\n",
    "\n",
    "print(result) "
   ]
  },
  {
   "cell_type": "code",
   "execution_count": 49,
   "metadata": {},
   "outputs": [
    {
     "name": "stdout",
     "output_type": "stream",
     "text": [
      "{1: 1, 2: 2, 3: 3, 4: 4}\n"
     ]
    }
   ],
   "source": [
    "## Checking the frequency of the number in the list using dictionary\n",
    "\n",
    "numbers=[1,2,2,3,3,3,4,4,4,4]\n",
    "frqeuency={}\n",
    "\n",
    "for number in numbers:\n",
    "    if number in frqeuency:\n",
    "        frqeuency[number]+=1\n",
    "    else:\n",
    "        frqeuency[number]=1\n",
    "\n",
    "print(frqeuency)"
   ]
  },
  {
   "cell_type": "code",
   "execution_count": 5,
   "metadata": {},
   "outputs": [
    {
     "name": "stdout",
     "output_type": "stream",
     "text": [
      "Age is 20\n"
     ]
    }
   ],
   "source": [
    "## Basic if-else problem\n",
    "\n",
    "age=20\n",
    "\n",
    "if age>=20:\n",
    "    print(f'Age is {age}')\n",
    "else:\n",
    "    print(f'age is less than {age}')"
   ]
  },
  {
   "cell_type": "code",
   "execution_count": 10,
   "metadata": {},
   "outputs": [
    {
     "name": "stdout",
     "output_type": "stream",
     "text": [
      "You are eligible to vote because you are a youth of the country and your age is 30\n"
     ]
    }
   ],
   "source": [
    "## Simple question for voting eligibility check:\n",
    "\n",
    "age=int(input(\"Enter your age:\"))\n",
    "\n",
    "if age<18:\n",
    "    print(f\"You are not eligible to vote because you are a minor and your age is {age}\")\n",
    "elif age>=18 and age<=30:\n",
    "    print(f\"You are eligible to vote because you are a youth and your age is {age}\")\n",
    "else:\n",
    "    print(f\"You are eligible to vote because you are an adult and your age is {age}\")"
   ]
  },
  {
   "cell_type": "code",
   "execution_count": 15,
   "metadata": {},
   "outputs": [
    {
     "name": "stdout",
     "output_type": "stream",
     "text": [
      "You have entered 0, neither +ve nor -ve\n"
     ]
    }
   ],
   "source": [
    "## Check if the number is positive or negative, if the number is positve then check if it is even or odd\n",
    "\n",
    "num=int(input(\"Enter a number of your choice\"))\n",
    "\n",
    "if num>0:\n",
    "    print(\"The number is positive\")\n",
    "    if num%2==0:\n",
    "        print(\"The number is even\")\n",
    "    else:\n",
    "        print(\"The number is odd\")\n",
    "elif num==0:\n",
    "    print(\"You have entered 0, neither +ve nor -ve\")\n",
    "else:\n",
    "    print(\"The number is negative\")"
   ]
  },
  {
   "cell_type": "code",
   "execution_count": 16,
   "metadata": {},
   "outputs": [
    {
     "name": "stdout",
     "output_type": "stream",
     "text": [
      "The year 2024 is a leap year\n"
     ]
    }
   ],
   "source": [
    "## Check if the year is leap year or not\n",
    "\n",
    "year=int(input(\"Enter a year of your choice\"))\n",
    "\n",
    "if year%4==0:\n",
    "    if year%100==0:\n",
    "        if year%400==0:\n",
    "            print(f\"The year {year} is a leap year\")\n",
    "        else:\n",
    "            print(f\"The year {year} is not a leap year\")\n",
    "    else:\n",
    "        print(f\"The year {year} is a leap year\")\n",
    "else:\n",
    "    print(f\"The year {year} is not a leap year\")"
   ]
  },
  {
   "cell_type": "code",
   "execution_count": 9,
   "metadata": {},
   "outputs": [
    {
     "name": "stdout",
     "output_type": "stream",
     "text": [
      "1999 is a not leap year\n"
     ]
    }
   ],
   "source": [
    "## Check if the year is leap year or not\n",
    "\n",
    "year= int(input(\"Enter a year\"))\n",
    "\n",
    "if year%100!=0:\n",
    "    if year%4==0:\n",
    "        print(\"{} is a leap year\".format(year))\n",
    "    else:\n",
    "        print(\"{} is a not leap year\".format(year))\n",
    "else:\n",
    "    if year%400==0:\n",
    "        print(\"{} is a leap year\".format(year))\n",
    "    else:\n",
    "        print(\"{} is not a leap year\".format(year))"
   ]
  },
  {
   "cell_type": "code",
   "execution_count": 4,
   "metadata": {},
   "outputs": [
    {
     "name": "stdout",
     "output_type": "stream",
     "text": [
      "2024 is a leap year\n"
     ]
    }
   ],
   "source": [
    "## Check if the year is leap year or not\n",
    "\n",
    "year= int(input(\"Enter a year\"))\n",
    "\n",
    "if year%400==0 or year%100!=0 and year%4==0:\n",
    "    print(\"{} is a leap year\".format(year))\n",
    "else:\n",
    "    print(\"{} is not a leap year\".format(year))"
   ]
  },
  {
   "cell_type": "code",
   "execution_count": 8,
   "metadata": {},
   "outputs": [
    {
     "name": "stdout",
     "output_type": "stream",
     "text": [
      "leap year\n"
     ]
    }
   ],
   "source": [
    "## Check if the year is leap year or not\n",
    "\n",
    "year= int(input(\"Enter a year\"))\n",
    "\n",
    "result= \"leap year\" if year%400==0 else \"leap year\" if year%100!=0 and year%4==0 else \"not a leap year\"\n",
    "print(result)\n"
   ]
  },
  {
   "cell_type": "code",
   "execution_count": 20,
   "metadata": {},
   "outputs": [
    {
     "name": "stdout",
     "output_type": "stream",
     "text": [
      "The result of 20.0 / 2.0 is 10.0\n"
     ]
    }
   ],
   "source": [
    "## Basic calculator\n",
    "\n",
    "num1=float(input(\"Enter fisrst number\"))\n",
    "num2=float(input(\"Enter second number\"))\n",
    "operation=input(\"Enter the opearation you want to perform (+, -, *, /):\")\n",
    "\n",
    "if operation==\"+\":\n",
    "    result=num1+num2\n",
    "elif operation==\"-\":\n",
    "    result=num1-num2\n",
    "elif operation==\"*\":\n",
    "    result=num1*num2\n",
    "elif operation==\"/\":\n",
    "    if num2!=0:\n",
    "        result=num1/num2\n",
    "    else:\n",
    "        result=\"Divide by zero error!\"\n",
    "else:\n",
    "    print(f\"This is the invalid operation\")\n",
    "    \n",
    "print(f\"The result of {num1} {operation} {num2} is {result}\")"
   ]
  },
  {
   "cell_type": "code",
   "execution_count": 31,
   "metadata": {},
   "outputs": [
    {
     "name": "stdout",
     "output_type": "stream",
     "text": [
      "your ticket price is $25\n"
     ]
    }
   ],
   "source": [
    "## Train ticket booking with age criteria and providing discount if the passenger is a student\n",
    "\n",
    "age=int(input(\"Enter your age\"))\n",
    "#is_student=bool(input(\"True or False\"))\n",
    "is_student=input(\"Are you a student:(yes/no)\").lower()\n",
    "\n",
    "if is_student==\"yes\" or is_student==\"no\":\n",
    "    if age<5:\n",
    "        price=\"Free\"\n",
    "    elif age<13:\n",
    "        price=\"$10\"\n",
    "    elif age<17:\n",
    "        if is_student==\"yes\":\n",
    "            price=\"$12\"\n",
    "        else:\n",
    "            price=\"$14\"\n",
    "    elif age<=64:\n",
    "        if is_student==\"yes\":\n",
    "            price=\"$18\"\n",
    "        else:\n",
    "            price=\"$25\"\n",
    "    else:\n",
    "        price=\"$20\"\n",
    "\n",
    "    print(f\"your ticket price is {price}\")\n",
    "else:\n",
    "    print(\"Please enter yes or no if you are a student or not!\")"
   ]
  },
  {
   "cell_type": "code",
   "execution_count": 37,
   "metadata": {},
   "outputs": [
    {
     "name": "stdout",
     "output_type": "stream",
     "text": [
      "your bonus percentage is: 0\n",
      "Bonus Amount: $0.00\n"
     ]
    }
   ],
   "source": [
    "## Bonus calculator of a corporate employee of a company.\n",
    "\n",
    "years_of_service=int(input(\"Enter your years of service:\"))\n",
    "performance_rating=float(input(\"Enter performance rating: (1.0 to 5.0)\"))\n",
    "\n",
    "if years_of_service>10:\n",
    "    if performance_rating>=4.5:\n",
    "        bonus_percentage=20\n",
    "    elif performance_rating>=3.5:\n",
    "        bonus_percentage=15\n",
    "    else:\n",
    "        bonus_percentage=0\n",
    "elif years_of_service>5:\n",
    "    if performance_rating>=4.5:\n",
    "        bonus_percentage=15\n",
    "    elif performance_rating>=3.5:\n",
    "        bonus_percentage=10\n",
    "    else:\n",
    "        bonus_percentage=0\n",
    "else:\n",
    "    if performance_rating>=4.5:\n",
    "        bonus_percentage=10\n",
    "    elif performance_rating>=3.5:\n",
    "        bonus_percentage=5\n",
    "    else:\n",
    "        bonus_percentage=0\n",
    "\n",
    "\n",
    "salary=float(input(\"Enter your current salary:\"))\n",
    "bonus_amount=salary*bonus_percentage/100\n",
    "print(f\"your bonus percentage is: {bonus_percentage}\")\n",
    "print(\"Bonus Amount: ${:.2f}\".format(bonus_amount))"
   ]
  },
  {
   "cell_type": "code",
   "execution_count": 42,
   "metadata": {},
   "outputs": [
    {
     "name": "stdout",
     "output_type": "stream",
     "text": [
      "Login successful!!\n"
     ]
    }
   ],
   "source": [
    "## Password authenticator\n",
    "\n",
    "stored_username=\"shivang\"\n",
    "stored_password=\"password\"\n",
    "\n",
    "username=input(\"Enter the username:\")\n",
    "password=input(\"Enter the password\")\n",
    "\n",
    "if username==stored_username:\n",
    "    if password==stored_password:\n",
    "        print(\"Login successful!!\")\n",
    "    else:\n",
    "        print(\"Login unsuccessful, your password is incorrect\")\n",
    "else:\n",
    "    print(\"Your username is incorrect\")"
   ]
  },
  {
   "cell_type": "code",
   "execution_count": 2,
   "metadata": {},
   "outputs": [
    {
     "name": "stdout",
     "output_type": "stream",
     "text": [
      "Mileage of your vehicle is: 29.50588235294118\n"
     ]
    }
   ],
   "source": [
    "## Mileage calculation program\n",
    "\n",
    "fuel_amount = float(input(\"Enter the total fuel amount\"))\n",
    "kms_driven = float(input(\"Enter kilometers driven\"))\n",
    "fuel_price = float(input(\"Enter the fuel price\")) \n",
    "\n",
    "total_litres = fuel_amount/fuel_price\n",
    "mileage = kms_driven/total_litres\n",
    "print(f\"Mileage of your vehicle is: {mileage}\")"
   ]
  },
  {
   "cell_type": "code",
   "execution_count": null,
   "metadata": {},
   "outputs": [],
   "source": []
  }
 ],
 "metadata": {
  "kernelspec": {
   "display_name": "Python 3",
   "language": "python",
   "name": "python3"
  },
  "language_info": {
   "codemirror_mode": {
    "name": "ipython",
    "version": 3
   },
   "file_extension": ".py",
   "mimetype": "text/x-python",
   "name": "python",
   "nbconvert_exporter": "python",
   "pygments_lexer": "ipython3",
   "version": "3.10.14"
  }
 },
 "nbformat": 4,
 "nbformat_minor": 2
}
